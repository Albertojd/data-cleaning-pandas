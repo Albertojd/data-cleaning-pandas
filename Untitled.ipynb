{
 "cells": [
  {
   "cell_type": "code",
   "execution_count": 1,
   "metadata": {},
   "outputs": [
    {
     "data": {
      "text/plain": [
       "0"
      ]
     },
     "execution_count": 1,
     "metadata": {},
     "output_type": "execute_result"
    }
   ],
   "source": [
    "len([e for e in range(2,51,2) if e%2==1])"
   ]
  },
  {
   "cell_type": "code",
   "execution_count": 4,
   "metadata": {},
   "outputs": [
    {
     "name": "stdout",
     "output_type": "stream",
     "text": [
      "total interations: 3\n",
      "final iterartions: 2\n"
     ]
    }
   ],
   "source": [
    "\n",
    "lst = [1,2,3]\n",
    "interation = len(lst)\n",
    "lc = [e for e in lst if e%2]\n",
    "lc_size = len(lc)\n",
    "print(f\"total interations: {interation}\")\n",
    "print(f\"final iterartions: {lc_size}\")"
   ]
  },
  {
   "cell_type": "code",
   "execution_count": 6,
   "metadata": {},
   "outputs": [
    {
     "name": "stdout",
     "output_type": "stream",
     "text": [
      "total interations: 4\n",
      "final iterartions: 4\n"
     ]
    }
   ],
   "source": [
    "### Conditional values // TERNARIOS\n",
    "lst = [1,2,3,4]\n",
    "interation = len(lst)\n",
    "lc = [e for e in lst]\n",
    "lc_size = len(lc)\n",
    "print(f\"total interations: {interation}\")\n",
    "print(f\"final iterartions: {lc_size}\")"
   ]
  },
  {
   "cell_type": "code",
   "execution_count": null,
   "metadata": {},
   "outputs": [],
   "source": [
    "### TERNARY ES PONER LO DEL PRIMER EJEMPLO COMO EL SEGUNDO, EN UNA SOLA LINEA\n",
    "a = 8\n",
    "if a%2:\n",
    "    parity = \"odd\"\n",
    "else: partity=\"even\"\n",
    "    \n",
    "a = 8\n",
    "parity = \"odd\" if a%2 else \"even\""
   ]
  }
 ],
 "metadata": {
  "kernelspec": {
   "display_name": "Python 3",
   "language": "python",
   "name": "python3"
  },
  "language_info": {
   "codemirror_mode": {
    "name": "ipython",
    "version": 3
   },
   "file_extension": ".py",
   "mimetype": "text/x-python",
   "name": "python",
   "nbconvert_exporter": "python",
   "pygments_lexer": "ipython3",
   "version": "3.8.3"
  }
 },
 "nbformat": 4,
 "nbformat_minor": 4
}
